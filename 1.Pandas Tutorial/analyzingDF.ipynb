{
 "cells": [
  {
   "cell_type": "markdown",
   "id": "35399597",
   "metadata": {},
   "source": [
    "# Pandas - Analyzing DataFrames\n"
   ]
  },
  {
   "cell_type": "markdown",
   "id": "50d523a9",
   "metadata": {},
   "source": [
    "## Viewing the Data\n",
    "One of the most used method for getting a quick overview of the DataFrame, is the head() method.\n",
    "\n",
    "The head() method returns the headers and a specified number of rows, starting from the top."
   ]
  },
  {
   "cell_type": "code",
   "execution_count": 1,
   "id": "ede9b9b5",
   "metadata": {},
   "outputs": [],
   "source": [
    "import pandas as pd"
   ]
  },
  {
   "cell_type": "code",
   "execution_count": 3,
   "id": "a0960205",
   "metadata": {},
   "outputs": [
    {
     "name": "stdout",
     "output_type": "stream",
     "text": [
      "   Duration  Pulse  Maxpulse  Calories\n",
      "0        60    110       130     409.1\n",
      "1        60    117       145     479.0\n",
      "2        60    103       135     340.0\n",
      "3        45    109       175     282.4\n",
      "4        45    117       148     406.0\n",
      "5        60    102       127     300.0\n",
      "6        60    110       136     374.0\n",
      "7        45    104       134     253.3\n",
      "8        30    109       133     195.1\n",
      "9        60     98       124     269.0\n"
     ]
    }
   ],
   "source": [
    "df = pd.read_csv('dataW3S.csv')\n",
    "\n",
    "print(df.head(10)) # As primeiras 10 linhas"
   ]
  },
  {
   "cell_type": "code",
   "execution_count": 4,
   "id": "53a55105",
   "metadata": {},
   "outputs": [
    {
     "name": "stdout",
     "output_type": "stream",
     "text": [
      "   Duration  Pulse  Maxpulse  Calories\n",
      "0        60    110       130     409.1\n",
      "1        60    117       145     479.0\n",
      "2        60    103       135     340.0\n",
      "3        45    109       175     282.4\n",
      "4        45    117       148     406.0\n"
     ]
    }
   ],
   "source": [
    "print(df.head())  # As primeiras 5 linhas (padrão)"
   ]
  },
  {
   "cell_type": "code",
   "execution_count": 5,
   "id": "8f211510",
   "metadata": {},
   "outputs": [
    {
     "name": "stdout",
     "output_type": "stream",
     "text": [
      "     Duration  Pulse  Maxpulse  Calories\n",
      "164        60    105       140     290.8\n",
      "165        60    110       145     300.0\n",
      "166        60    115       145     310.2\n",
      "167        75    120       150     320.4\n",
      "168        75    125       150     330.4\n"
     ]
    }
   ],
   "source": [
    "# Também existe o método tail() para ver as últimas linhas do DataFrame\n",
    "\n",
    "print(df.tail())  # As últimas 5 linhas (padrão)"
   ]
  },
  {
   "cell_type": "markdown",
   "id": "f0b23f62",
   "metadata": {},
   "source": [
    "# Info About the Data\n",
    "\n",
    "The DataFrames object has a method called info(), that gives you more information about the data set."
   ]
  },
  {
   "cell_type": "code",
   "execution_count": 7,
   "id": "108aee6a",
   "metadata": {},
   "outputs": [
    {
     "name": "stdout",
     "output_type": "stream",
     "text": [
      "<class 'pandas.core.frame.DataFrame'>\n",
      "RangeIndex: 169 entries, 0 to 168\n",
      "Data columns (total 4 columns):\n",
      " #   Column    Non-Null Count  Dtype  \n",
      "---  ------    --------------  -----  \n",
      " 0   Duration  169 non-null    int64  \n",
      " 1   Pulse     169 non-null    int64  \n",
      " 2   Maxpulse  169 non-null    int64  \n",
      " 3   Calories  164 non-null    float64\n",
      "dtypes: float64(1), int64(3)\n",
      "memory usage: 5.4 KB\n",
      "None\n"
     ]
    },
    {
     "data": {
      "text/plain": [
       "'\\n  dtypes: float64(1), int64(3)\\n  memory usage: 5.4 KB\\n'"
      ]
     },
     "execution_count": 7,
     "metadata": {},
     "output_type": "execute_result"
    }
   ],
   "source": [
    "print(df.info())  # Informações sobre o DataFrame\n",
    "\n",
    "'''\n",
    "<class 'pandas.core.frame.DataFrame'>\n",
    "RangeIndex: 169 entries, 0 to 168\n",
    "Data columns (total 4 columns):\n",
    " #   Column    Non-Null Count  Dtype  \n",
    "---  ------    --------------  -----  \n",
    " 0   Duration  169 non-null    int64  \n",
    " 1   Pulse     169 non-null    int64  \n",
    " 2   Maxpulse  169 non-null    int64  \n",
    " 3   Calories  164 non-null    float64\n",
    "dtypes: float64(1), int64(3)\n",
    "memory usage: 5.4 KB\n",
    "None\n",
    "'''\n",
    "\n",
    "# Nos fala que existem 169 linhas e 4 colunas\n",
    "'''\n",
    "RangeIndex: 169 entries, 0 to 168\n",
    "Data columns (total 4 columns):\n",
    "'''\n",
    "\n",
    "# Nome de cada coluna e seu tipo de dado\n",
    "'''\n",
    "#      Column    Non-Null Count  Dtype  \n",
    "  ---  ------    --------------  -----  \n",
    "   0   Duration  169 non-null    int64  \n",
    "   1   Pulse     169 non-null    int64  \n",
    "   2   Maxpulse  169 non-null    int64  \n",
    "   3   Calories  164 non-null    float64\n",
    "'''\n",
    "\n",
    "# resumo dos tipos de dados e uso de memória\n",
    "'''\n",
    "  dtypes: float64(1), int64(3)\n",
    "  memory usage: 5.4 KB\n",
    "'''"
   ]
  },
  {
   "cell_type": "markdown",
   "id": "11ed347c",
   "metadata": {},
   "source": [
    "## Null Values\n",
    "\n",
    "O método .info() também nos fala quando valores não nulos (Non-Null Values) existem em cada coluna, e no df usado aparenta tem 164 de 169 valores não nulos na coluna \"calories\".\n",
    "\n",
    "O que significa que existem 5 linhas sem nenhum valor nessa coluna.\n",
    "\n",
    "Valores nulos e informações faltando em linhas podem ser ruins para analisar dados e devemos levar em consideração remover as linhas com Null Values."
   ]
  }
 ],
 "metadata": {
  "kernelspec": {
   "display_name": "Python 3",
   "language": "python",
   "name": "python3"
  },
  "language_info": {
   "codemirror_mode": {
    "name": "ipython",
    "version": 3
   },
   "file_extension": ".py",
   "mimetype": "text/x-python",
   "name": "python",
   "nbconvert_exporter": "python",
   "pygments_lexer": "ipython3",
   "version": "3.13.7"
  }
 },
 "nbformat": 4,
 "nbformat_minor": 5
}
