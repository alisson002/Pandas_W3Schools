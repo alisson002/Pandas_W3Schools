{
 "cells": [
  {
   "cell_type": "markdown",
   "id": "867b8c3e",
   "metadata": {},
   "source": [
    "# Pandas Series"
   ]
  },
  {
   "cell_type": "markdown",
   "id": "705ec1e5",
   "metadata": {},
   "source": [
    "## What is a Series?\n",
    "A Pandas Series is like a column in a table.\n",
    "\n",
    "It is a one-dimensional array holding data of any type."
   ]
  },
  {
   "cell_type": "code",
   "execution_count": 2,
   "id": "45d37508",
   "metadata": {},
   "outputs": [],
   "source": [
    "import pandas as pd"
   ]
  },
  {
   "cell_type": "code",
   "execution_count": 2,
   "id": "a2f5e63b",
   "metadata": {},
   "outputs": [
    {
     "name": "stdout",
     "output_type": "stream",
     "text": [
      "0    1\n",
      "1    7\n",
      "2    2\n",
      "dtype: int64\n"
     ]
    }
   ],
   "source": [
    "a = [1,7,2]\n",
    "mySeries = pd.Series(a)\n",
    "print(mySeries)"
   ]
  },
  {
   "cell_type": "code",
   "execution_count": 3,
   "id": "c45fbe32",
   "metadata": {},
   "outputs": [
    {
     "name": "stdout",
     "output_type": "stream",
     "text": [
      "x    1\n",
      "y    7\n",
      "z    2\n",
      "dtype: int64\n"
     ]
    }
   ],
   "source": [
    "a = [1,7,2]\n",
    "mySeries = pd.Series(a, index = [\"x\", \"y\", \"z\"]) # definindo o index da series. Sem defini-lo ele assume o padrão 0,1,2...\n",
    "print(mySeries)"
   ]
  },
  {
   "cell_type": "code",
   "execution_count": null,
   "id": "20df8c99",
   "metadata": {},
   "outputs": [
    {
     "name": "stdout",
     "output_type": "stream",
     "text": [
      "7\n"
     ]
    }
   ],
   "source": [
    "print(mySeries[\"y\"]) # Dessaforma estou acessando o valor do index \"y\", assim como eu poderia acessar pelo index padrão 1, 2, 3... Ex: mySeries[1] se não alterar o index."
   ]
  },
  {
   "cell_type": "markdown",
   "id": "b3782e4e",
   "metadata": {},
   "source": [
    "## Key/Value Objects as Series\n",
    "You can also use a key/value object, like a dictionary, when creating a Series."
   ]
  },
  {
   "cell_type": "code",
   "execution_count": 7,
   "id": "b0d1a7dc",
   "metadata": {},
   "outputs": [
    {
     "name": "stdout",
     "output_type": "stream",
     "text": [
      "day1    420\n",
      "day2    380\n",
      "day3    390\n",
      "dtype: int64\n"
     ]
    }
   ],
   "source": [
    "calories = {\"day1\": 420, \"day2\": 380, \"day3\": 390} # Assim definimos um dicionário\n",
    "\n",
    "mySeries = pd.Series(calories)\n",
    "\n",
    "print(mySeries)"
   ]
  },
  {
   "cell_type": "code",
   "execution_count": 9,
   "id": "d34d2850",
   "metadata": {},
   "outputs": [
    {
     "name": "stdout",
     "output_type": "stream",
     "text": [
      "day1    420\n",
      "day2    380\n",
      "dtype: int64\n"
     ]
    }
   ],
   "source": [
    "# Selecionando apenas os intens que quero na minha series\n",
    "\n",
    "colories = {\"day1\": 420, \"day2\": 380, \"day3\": 390}\n",
    "\n",
    "mySeries = pd.Series(calories, index = [\"day1\", \"day2\"]) # Assim eu seleciono apenas os dias 1 e 2\n",
    "\n",
    "print(mySeries)"
   ]
  },
  {
   "cell_type": "markdown",
   "id": "fc8d89fe",
   "metadata": {},
   "source": [
    "## DataFrames\n",
    "Data sets in Pandas are usually multi-dimensional tables, called DataFrames.\n",
    "\n",
    "Series is like a column, a DataFrame is the whole table."
   ]
  },
  {
   "cell_type": "code",
   "execution_count": 11,
   "id": "14c56d32",
   "metadata": {},
   "outputs": [
    {
     "name": "stdout",
     "output_type": "stream",
     "text": [
      "   calories  duration\n",
      "0       420        50\n",
      "1       380        40\n",
      "2       390        45\n"
     ]
    }
   ],
   "source": [
    "# Podemos criar um DataFram a partir de duas Series\n",
    "\n",
    "df = {\"calories\": [420, 380, 390],\n",
    "      \"duration\": [50, 40, 45]}\n",
    "\n",
    "myDf = pd.DataFrame(df)\n",
    "\n",
    "print(myDf)"
   ]
  }
 ],
 "metadata": {
  "kernelspec": {
   "display_name": "Python 3",
   "language": "python",
   "name": "python3"
  },
  "language_info": {
   "codemirror_mode": {
    "name": "ipython",
    "version": 3
   },
   "file_extension": ".py",
   "mimetype": "text/x-python",
   "name": "python",
   "nbconvert_exporter": "python",
   "pygments_lexer": "ipython3",
   "version": "3.13.7"
  }
 },
 "nbformat": 4,
 "nbformat_minor": 5
}
